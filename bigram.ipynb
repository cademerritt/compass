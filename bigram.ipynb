{
 "cells": [
  {
   "cell_type": "code",
   "execution_count": 2,
   "id": "24028642-4291-4d99-b374-492dfc4d867e",
   "metadata": {},
   "outputs": [],
   "source": [
    "import torch\n",
    "import numpy as np\n",
    "import time\n",
    "device = 'cuda' if torch.cuda.is_available() else 'cpu'\n",
    "\n",
    "block_size = 8\n",
    "batch_size = 4"
   ]
  },
  {
   "cell_type": "code",
   "execution_count": 3,
   "id": "2b8845ee-06fb-48ee-8f77-46bdd129b9eb",
   "metadata": {},
   "outputs": [
    {
     "name": "stdout",
     "output_type": "stream",
     "text": [
      "0.0040\n"
     ]
    }
   ],
   "source": [
    "start_time =time.time()\n",
    "#matrix here\n",
    "zero = torch.zeros(1, 1)\n",
    "end_time = time.time()\n",
    "\n",
    "elapsed_time = end_time - start_time\n",
    "print(f'{elapsed_time:.4f}')"
   ]
  },
  {
   "cell_type": "code",
   "execution_count": null,
   "id": "22977589-6553-463e-9e60-09ab5d991d3f",
   "metadata": {},
   "outputs": [],
   "source": []
  },
  {
   "cell_type": "code",
   "execution_count": null,
   "id": "20810045-1353-4db2-8a1d-76bcc30a175f",
   "metadata": {},
   "outputs": [],
   "source": []
  },
  {
   "cell_type": "code",
   "execution_count": 4,
   "id": "ca54c36a",
   "metadata": {},
   "outputs": [
    {
     "name": "stdout",
     "output_type": "stream",
     "text": [
      "['\\t', '\\n', ' ', '!', '\"', '&', \"'\", '(', ')', '*', ',', '-', '.', '0', '1', '2', '3', '4', '5', '6', '7', '8', '9', ':', ';', '?', 'A', 'B', 'C', 'D', 'E', 'F', 'G', 'H', 'I', 'J', 'K', 'L', 'M', 'N', 'O', 'P', 'Q', 'R', 'S', 'T', 'U', 'V', 'W', 'X', 'Y', 'Z', '[', ']', '_', 'a', 'b', 'c', 'd', 'e', 'f', 'g', 'h', 'i', 'j', 'k', 'l', 'm', 'n', 'o', 'p', 'q', 'r', 's', 't', 'u', 'v', 'w', 'x', 'y', 'z', '\\ufeff']\n"
     ]
    }
   ],
   "source": [
    "with open(\"wizard_of_oz.txt\", 'r', encoding='utf-8') as f:\n",
    "    text = f.read()\n",
    "chars = sorted(set(text))\n",
    "print(chars)\n",
    "vocabulary_size = len(chars)"
   ]
  },
  {
   "cell_type": "code",
   "execution_count": 5,
   "id": "a075656d",
   "metadata": {},
   "outputs": [
    {
     "name": "stdout",
     "output_type": "stream",
     "text": [
      "tensor([81,  0, 29, 40, 43, 40, 45, 33, 50,  2, 26, 39, 29,  2, 45, 33, 30,  2,\n",
      "        48, 34, 51, 26, 43, 29,  2, 34, 39,  2, 40, 51,  1,  1,  2,  2, 27, 50,\n",
      "         1,  1,  2,  2, 37, 12,  2, 31, 43, 26, 39, 36,  2, 27, 26, 46, 38,  1,\n",
      "         1,  2,  2, 26, 46, 45, 33, 40, 43,  2, 40, 31,  2, 45, 33, 30,  2, 48,\n",
      "        34, 51, 26, 43, 29,  2, 40, 31,  2, 40, 51, 10,  2, 45, 33, 30,  2, 37,\n",
      "        26, 39, 29,  2, 40, 31,  2, 40, 51, 10])\n"
     ]
    }
   ],
   "source": [
    "string_to_int ={ ch:i for i, ch in enumerate(chars)}\n",
    "int_to_string ={ i:ch for i, ch in enumerate(chars)}\n",
    "\n",
    "encode =lambda s:[string_to_int[c] for c in s ]\n",
    "decode = lambda l: ''.join([int_to_string[i] for i in l])\n",
    "\n",
    "data = torch.tensor(encode(text), dtype=torch.long)\n",
    "print(data[:100])"
   ]
  },
  {
   "cell_type": "code",
   "execution_count": 6,
   "id": "fdc578fa-7b8c-4821-8e17-3d7375ef6bb0",
   "metadata": {},
   "outputs": [],
   "source": [
    "n = int(0.8*len(data))\n",
    "train_data = data[:n]\n",
    "val_data = data[n:]"
   ]
  },
  {
   "cell_type": "code",
   "execution_count": null,
   "id": "08095e29-bf03-4517-a98f-7dae7242f3f5",
   "metadata": {},
   "outputs": [],
   "source": []
  },
  {
   "cell_type": "code",
   "execution_count": 7,
   "id": "e450f188-13d3-416e-8dae-e04814135ecd",
   "metadata": {},
   "outputs": [
    {
     "name": "stdout",
     "output_type": "stream",
     "text": [
      "when input is tensor([81]) target is tensor(0)\n",
      "when input is tensor([81,  0]) target is tensor(29)\n",
      "when input is tensor([81,  0, 29]) target is tensor(40)\n",
      "when input is tensor([81,  0, 29, 40]) target is tensor(43)\n",
      "when input is tensor([81,  0, 29, 40, 43]) target is tensor(40)\n",
      "when input is tensor([81,  0, 29, 40, 43, 40]) target is tensor(45)\n",
      "when input is tensor([81,  0, 29, 40, 43, 40, 45]) target is tensor(33)\n",
      "when input is tensor([81,  0, 29, 40, 43, 40, 45, 33]) target is tensor(50)\n"
     ]
    }
   ],
   "source": [
    "x = train_data[:block_size]\n",
    "y = train_data[1:block_size+1]\n",
    "\n",
    "for t in range(block_size):\n",
    "    context = x[:t+1]\n",
    "    target = y[t]\n",
    "    print('when input is', context, 'target is', target)"
   ]
  },
  {
   "cell_type": "code",
   "execution_count": null,
   "id": "297039e5-71b8-4608-a2a4-09ed1309b8d2",
   "metadata": {},
   "outputs": [],
   "source": []
  }
 ],
 "metadata": {
  "kernelspec": {
   "display_name": "cuda-gpt",
   "language": "python",
   "name": "cuda"
  },
  "language_info": {
   "codemirror_mode": {
    "name": "ipython",
    "version": 3
   },
   "file_extension": ".py",
   "mimetype": "text/x-python",
   "name": "python",
   "nbconvert_exporter": "python",
   "pygments_lexer": "ipython3",
   "version": "3.11.5"
  }
 },
 "nbformat": 4,
 "nbformat_minor": 5
}
